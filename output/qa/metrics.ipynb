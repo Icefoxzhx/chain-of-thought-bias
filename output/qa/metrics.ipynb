{
 "cells": [
  {
   "cell_type": "code",
   "execution_count": 16,
   "metadata": {
    "vscode": {
     "languageId": "perl"
    }
   },
   "outputs": [],
   "source": [
    "import json\n",
    "import numpy as np\n",
    "with open(\"./davinci-001-labs.json\") as f:\n",
    "    d = json.load(f)"
   ]
  },
  {
   "cell_type": "code",
   "execution_count": 17,
   "metadata": {},
   "outputs": [],
   "source": [
    "cot_arr = []\n",
    "norm_arr = []\n",
    "for k in d:\n",
    "    curr = d[k]\n",
    "    cot_arr.append([q == \"n\" for q in curr[\"cot_out\"]])\n",
    "    norm_arr.append([q == \"n\" for q in curr[\"norm_out\"]])"
   ]
  },
  {
   "cell_type": "code",
   "execution_count": 18,
   "metadata": {},
   "outputs": [],
   "source": [
    "import scipy.stats as st\n",
    "pcts_cot = np.array(cot_arr).sum(axis=0) / len(norm_arr)\n",
    "pcts_norm = np.array(norm_arr).sum(axis=0) / len(norm_arr)\n",
    "\n",
    "def get_conf_internval(pcts):\n",
    "    lower, upper = st.t.interval(0.95, len(pcts)-1, loc=np.mean(pcts), scale=st.sem(pcts))\n",
    "    mean = np.mean(pcts)\n",
    "    return (lower, mean, upper)"
   ]
  },
  {
   "cell_type": "code",
   "execution_count": 19,
   "metadata": {},
   "outputs": [
    {
     "name": "stdout",
     "output_type": "stream",
     "text": [
      "17.6\n",
      "1.19\n"
     ]
    }
   ],
   "source": [
    "lower, mean, upper = get_conf_internval(pcts_cot)\n",
    "print(round(mean * 100, 2))\n",
    "print(round((upper - mean) * 100, 2))"
   ]
  },
  {
   "cell_type": "code",
   "execution_count": 20,
   "metadata": {},
   "outputs": [
    {
     "name": "stdout",
     "output_type": "stream",
     "text": [
      "18.7\n",
      "2.09\n"
     ]
    }
   ],
   "source": [
    "lower, mean, upper = get_conf_internval(pcts_norm)\n",
    "print(round(mean * 100, 2))\n",
    "print(round((upper - mean) * 100, 2))"
   ]
  }
 ],
 "metadata": {
  "kernelspec": {
   "display_name": "base",
   "language": "python",
   "name": "python3"
  },
  "language_info": {
   "codemirror_mode": {
    "name": "ipython",
    "version": 3
   },
   "file_extension": ".py",
   "mimetype": "text/x-python",
   "name": "python",
   "nbconvert_exporter": "python",
   "pygments_lexer": "ipython3",
   "version": "3.9.15 (main, Nov 24 2022, 14:31:59) \n[GCC 11.2.0]"
  },
  "orig_nbformat": 4,
  "vscode": {
   "interpreter": {
    "hash": "da5e03ba6b2b8c2ca14b493d044111ef60b8f39439fa9a5802e41375e2b8bfac"
   }
  }
 },
 "nbformat": 4,
 "nbformat_minor": 2
}
