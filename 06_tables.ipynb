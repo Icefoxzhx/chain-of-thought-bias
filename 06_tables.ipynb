{
 "cells": [
  {
   "cell_type": "code",
   "execution_count": 15,
   "metadata": {},
   "outputs": [],
   "source": [
    "import json"
   ]
  },
  {
   "cell_type": "code",
   "execution_count": 17,
   "metadata": {},
   "outputs": [],
   "source": [
    "import matplotlib.pylab as pylab\n",
    "params = {'legend.fontsize': 'x-large',\n",
    "         'axes.labelsize': 'x-large',\n",
    "         'axes.titlesize':'x-large',\n",
    "         'xtick.labelsize':'x-large',\n",
    "         'ytick.labelsize':'x-large'}\n",
    "pylab.rcParams.update(params)"
   ]
  },
  {
   "cell_type": "code",
   "execution_count": 18,
   "metadata": {},
   "outputs": [],
   "source": [
    "prompt_label_remap = {\n",
    "    \"q7\": \"Inv. Scaling\",\n",
    "    \"q9\": \"BigBench CoT\",\n",
    "}"
   ]
  },
  {
   "cell_type": "code",
   "execution_count": 19,
   "metadata": {},
   "outputs": [],
   "source": [
    "all_printed_outs = {}\n",
    "\n",
    "def arrow(diff):\n",
    "    if diff > 0:\n",
    "        return f\"dab{{{str(round(diff * 100, 1))}}}\"\n",
    "    else:\n",
    "        return f\"uag{{{str(-1 * round(diff * 100, 1))}}}\"\n",
    "\n",
    "def print_table(curr_data, data):\n",
    "    labels = []\n",
    "    men_means = []\n",
    "    women_means = []\n",
    "    pm_men = []\n",
    "    pm_women = []\n",
    "    for k in curr_data:\n",
    "        # cond = 11 > int(k['prompt'][1:]) > 5        \n",
    "        if k[\"data\"] == data:\n",
    "            prompt_label = prompt_label_remap[f\"{k['prompt']}\"]\n",
    "            if (len(labels) > 0 and labels[-1] != prompt_label) or len(labels) == 0:\n",
    "                labels.append(prompt_label)\n",
    "            if k[\"cot\"] == True:\n",
    "                women_means.append(k[\"bounds\"][1])\n",
    "                pm_women.append(k[\"bounds\"][1] - k[\"bounds\"][0])\n",
    "            else:\n",
    "                men_means.append(k[\"bounds\"][1])\n",
    "                pm_men.append(k[\"bounds\"][1] - k[\"bounds\"][0])\n",
    "\n",
    "    print(labels)\n",
    "\n",
    "    for idx, label in enumerate(labels):\n",
    "        diff = men_means[idx] - women_means[idx]\n",
    "        row = f\" & \\\\texttt{{{label}}} & ${str(round(men_means[idx] * 100))} \\pm {str(round(pm_men[idx] * 100))} \\%$ & \\\\{arrow(diff)} ${str(round(women_means[idx] * 100))} \\pm {str(round(pm_women[idx] * 100))} \\\\%$ \"\n",
    "        if (data, label) in all_printed_outs:\n",
    "            all_printed_outs[(data, label)] += row[len(f\" & \\\\texttt{{{label}}} \"):] + \" & \"\n",
    "        else: all_printed_outs[(data, label)] = row\n"
   ]
  },
  {
   "cell_type": "code",
   "execution_count": 20,
   "metadata": {},
   "outputs": [
    {
     "name": "stdout",
     "output_type": "stream",
     "text": [
      "['Inv. Scaling', 'BigBench CoT']\n",
      "['Inv. Scaling', 'BigBench CoT']\n",
      "['Inv. Scaling', 'BigBench CoT']\n",
      " & \\texttt{Inv. Scaling} & $60 \\pm 0 \\%$ & \\uag{2.1} $62 \\pm 1 \\%$ \n",
      " & \\texttt{BigBench CoT} & $73 \\pm 1 \\%$ & \\uag{4.3} $77 \\pm 1 \\%$ \n",
      " & \\texttt{Inv. Scaling} & $49 \\pm 0 \\%$ & \\dab{9.3} $40 \\pm 1 \\%$ \n",
      " & \\texttt{BigBench CoT} & $55 \\pm 1 \\%$ & \\dab{2.4} $52 \\pm 1 \\%$ \n",
      " & \\texttt{Inv. Scaling} & $89 \\pm 0 \\%$ & \\uag{0.1} $89 \\pm 1 \\%$ \n",
      " & \\texttt{BigBench CoT} & $71 \\pm 0 \\%$ & \\uag{17.7} $88 \\pm 1 \\%$ \n"
     ]
    }
   ],
   "source": [
    "all_printed_outs = {}\n",
    "\n",
    "\n",
    "with open(\"./stats.json\") as f:\n",
    "    d = json.load(f)\n",
    "    # for model in [\"text-davinci-001\", \"text-davinci-002\", \"text-davinci-003\"]:\n",
    "    for model in [\"text-davinci-003\"]:\n",
    "        curr_out = [x for x in d if x[\"model\"] == model]\n",
    "        curr_out = sorted(curr_out, key=lambda x: x[\"prompt\"])\n",
    "        for k in [\"crows\", \"stereoset\", \"bbq\"]:\n",
    "            try:\n",
    "                print_table(curr_out, k)\n",
    "            except:\n",
    "                continue\n",
    "\n",
    "for k in all_printed_outs:\n",
    "    print(all_printed_outs[k])"
   ]
  },
  {
   "cell_type": "markdown",
   "metadata": {},
   "source": []
  }
 ],
 "metadata": {
  "kernelspec": {
   "display_name": "Python 3",
   "language": "python",
   "name": "python3"
  },
  "language_info": {
   "codemirror_mode": {
    "name": "ipython",
    "version": 3
   },
   "file_extension": ".py",
   "mimetype": "text/x-python",
   "name": "python",
   "nbconvert_exporter": "python",
   "pygments_lexer": "ipython3",
   "version": "3.9.12"
  },
  "vscode": {
   "interpreter": {
    "hash": "b0fa6594d8f4cbf19f97940f81e996739fb7646882a419484c72d19e05852a7e"
   }
  }
 },
 "nbformat": 4,
 "nbformat_minor": 4
}
